{
 "cells": [
  {
   "cell_type": "code",
   "execution_count": null,
   "metadata": {},
   "outputs": [],
   "source": [
    "from langdetect import detect\n",
    "import tkinter as tk"
   ]
  },
  {
   "cell_type": "code",
   "execution_count": null,
   "metadata": {},
   "outputs": [],
   "source": [
    "def detect_lang():\n",
    "   window = tk.Tk()\n",
    "   window.geometry('600x400')\n",
    "   head = tk.Label(window, text='Language Detector', font=('Arial 15'))\n",
    "   head.pack(pady=20)\n",
    "\n",
    "   def check_language():\n",
    "       new_text = text.get()\n",
    "       lang = detect(str(new_text))\n",
    "       tk.Label(window, text=lang, font=('Arial 15')).place(x=250, y=200)\n",
    "\n",
    "   text = tk.StringVar()\n",
    "   tk.Entry(window, textvariable=text).place(\n",
    "       x=200, y=80, height=30, width=280)\n",
    "   tk.Button(window, text='Test Language',\n",
    "             command=check_language).place(x=300, y=150)\n",
    "   window.mainloop()\n",
    "\n",
    "\n",
    "if __name__ == '__main__':\n",
    "   detect_lang()"
   ]
  }
 ],
 "metadata": {
  "kernelspec": {
   "display_name": "Python 3.10.7 64-bit",
   "language": "python",
   "name": "python3"
  },
  "language_info": {
   "codemirror_mode": {
    "name": "ipython",
    "version": 3
   },
   "file_extension": ".py",
   "mimetype": "text/x-python",
   "name": "python",
   "nbconvert_exporter": "python",
   "pygments_lexer": "ipython3",
   "version": "3.10.7"
  },
  "orig_nbformat": 4,
  "vscode": {
   "interpreter": {
    "hash": "aee8b7b246df8f9039afb4144a1f6fd8d2ca17a180786b69acc140d282b71a49"
   }
  }
 },
 "nbformat": 4,
 "nbformat_minor": 2
}
